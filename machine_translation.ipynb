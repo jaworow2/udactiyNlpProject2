{
 "cells": [
  {
   "cell_type": "markdown",
   "metadata": {
    "collapsed": true
   },
   "source": [
    "# Artificial Intelligence Nanodegree\n",
    "## Machine Translation Project\n",
    "In this notebook, sections that end with **'(IMPLEMENTATION)'** in the header indicate that the following blocks of code will require additional functionality which you must provide. Please be sure to read the instructions carefully!\n",
    "\n",
    "## Introduction\n",
    "In this notebook, you will build a deep neural network that functions as part of an end-to-end machine translation pipeline. Your completed pipeline will accept English text as input and return the French translation.\n",
    "\n",
    "- **Preprocess** - You'll convert text to sequence of integers.\n",
    "- **Models** Create models which accepts a sequence of integers as input and returns a probability distribution over possible translations. After learning about the basic types of neural networks that are often used for machine translation, you will engage in your own investigations, to design your own model!\n",
    "- **Prediction** Run the model on English text."
   ]
  },
  {
   "cell_type": "code",
   "execution_count": 1,
   "metadata": {},
   "outputs": [],
   "source": [
    "%load_ext autoreload\n",
    "%aimport helper, tests\n",
    "%autoreload 1"
   ]
  },
  {
   "cell_type": "code",
   "execution_count": 2,
   "metadata": {},
   "outputs": [
    {
     "name": "stderr",
     "output_type": "stream",
     "text": [
      "Using TensorFlow backend.\n"
     ]
    }
   ],
   "source": [
    "import collections\n",
    "\n",
    "import helper\n",
    "import numpy as np\n",
    "import project_tests as tests\n",
    "\n",
    "from keras.preprocessing.text import Tokenizer\n",
    "from keras.preprocessing.sequence import pad_sequences\n",
    "from keras.models import Model\n",
    "from keras.layers import GRU, Input, Dense, TimeDistributed, Activation, RepeatVector, Bidirectional\n",
    "from keras.layers.embeddings import Embedding\n",
    "from keras.optimizers import Adam\n",
    "from keras.losses import sparse_categorical_crossentropy"
   ]
  },
  {
   "cell_type": "markdown",
   "metadata": {},
   "source": [
    "### Verify access to the GPU\n",
    "The following test applies only if you expect to be using a GPU, e.g., while running in a Udacity Workspace or using an AWS instance with GPU support. Run the next cell, and verify that the device_type is \"GPU\".\n",
    "- If the device is not GPU & you are running from a Udacity Workspace, then save your workspace with the icon at the top, then click \"enable\" at the bottom of the workspace.\n",
    "- If the device is not GPU & you are running from an AWS instance, then refer to the cloud computing instructions in the classroom to verify your setup steps."
   ]
  },
  {
   "cell_type": "code",
   "execution_count": 3,
   "metadata": {},
   "outputs": [
    {
     "name": "stdout",
     "output_type": "stream",
     "text": [
      "[name: \"/cpu:0\"\n",
      "device_type: \"CPU\"\n",
      "memory_limit: 268435456\n",
      "locality {\n",
      "}\n",
      "incarnation: 7148424528128382713\n",
      ", name: \"/gpu:0\"\n",
      "device_type: \"GPU\"\n",
      "memory_limit: 357433344\n",
      "locality {\n",
      "  bus_id: 1\n",
      "}\n",
      "incarnation: 15103317721784131041\n",
      "physical_device_desc: \"device: 0, name: Tesla K80, pci bus id: 0000:00:04.0\"\n",
      "]\n"
     ]
    }
   ],
   "source": [
    "from tensorflow.python.client import device_lib\n",
    "print(device_lib.list_local_devices())"
   ]
  },
  {
   "cell_type": "markdown",
   "metadata": {},
   "source": [
    "## Dataset\n",
    "We begin by investigating the dataset that will be used to train and evaluate your pipeline.  The most common datasets used for machine translation are from [WMT](http://www.statmt.org/).  However, that will take a long time to train a neural network on.  We'll be using a dataset we created for this project that contains a small vocabulary.  You'll be able to train your model in a reasonable time with this dataset.\n",
    "### Load Data\n",
    "The data is located in `data/small_vocab_en` and `data/small_vocab_fr`. The `small_vocab_en` file contains English sentences with their French translations in the `small_vocab_fr` file. Load the English and French data from these files from running the cell below."
   ]
  },
  {
   "cell_type": "code",
   "execution_count": 4,
   "metadata": {},
   "outputs": [
    {
     "name": "stdout",
     "output_type": "stream",
     "text": [
      "Dataset Loaded\n"
     ]
    }
   ],
   "source": [
    "# Load English data\n",
    "english_sentences = helper.load_data('data/small_vocab_en')\n",
    "# Load French data\n",
    "french_sentences = helper.load_data('data/small_vocab_fr')\n",
    "\n",
    "print('Dataset Loaded')"
   ]
  },
  {
   "cell_type": "markdown",
   "metadata": {},
   "source": [
    "### Files\n",
    "Each line in `small_vocab_en` contains an English sentence with the respective translation in each line of `small_vocab_fr`.  View the first two lines from each file."
   ]
  },
  {
   "cell_type": "code",
   "execution_count": 5,
   "metadata": {},
   "outputs": [
    {
     "name": "stdout",
     "output_type": "stream",
     "text": [
      "small_vocab_en Line 1:  new jersey is sometimes quiet during autumn , and it is snowy in april .\n",
      "small_vocab_fr Line 1:  new jersey est parfois calme pendant l' automne , et il est neigeux en avril .\n",
      "small_vocab_en Line 2:  the united states is usually chilly during july , and it is usually freezing in november .\n",
      "small_vocab_fr Line 2:  les états-unis est généralement froid en juillet , et il gèle habituellement en novembre .\n"
     ]
    }
   ],
   "source": [
    "for sample_i in range(2):\n",
    "    print('small_vocab_en Line {}:  {}'.format(sample_i + 1, english_sentences[sample_i]))\n",
    "    print('small_vocab_fr Line {}:  {}'.format(sample_i + 1, french_sentences[sample_i]))"
   ]
  },
  {
   "cell_type": "markdown",
   "metadata": {},
   "source": [
    "From looking at the sentences, you can see they have been preprocessed already.  The puncuations have been delimited using spaces. All the text have been converted to lowercase.  This should save you some time, but the text requires more preprocessing.\n",
    "### Vocabulary\n",
    "The complexity of the problem is determined by the complexity of the vocabulary.  A more complex vocabulary is a more complex problem.  Let's look at the complexity of the dataset we'll be working with."
   ]
  },
  {
   "cell_type": "code",
   "execution_count": 6,
   "metadata": {},
   "outputs": [
    {
     "name": "stdout",
     "output_type": "stream",
     "text": [
      "1823250 English words.\n",
      "227 unique English words.\n",
      "10 Most common words in the English dataset:\n",
      "\"is\" \",\" \".\" \"in\" \"it\" \"during\" \"the\" \"but\" \"and\" \"sometimes\"\n",
      "\n",
      "1961295 French words.\n",
      "355 unique French words.\n",
      "10 Most common words in the French dataset:\n",
      "\"est\" \".\" \",\" \"en\" \"il\" \"les\" \"mais\" \"et\" \"la\" \"parfois\"\n"
     ]
    }
   ],
   "source": [
    "english_words_counter = collections.Counter([word for sentence in english_sentences for word in sentence.split()])\n",
    "french_words_counter = collections.Counter([word for sentence in french_sentences for word in sentence.split()])\n",
    "\n",
    "print('{} English words.'.format(len([word for sentence in english_sentences for word in sentence.split()])))\n",
    "print('{} unique English words.'.format(len(english_words_counter)))\n",
    "print('10 Most common words in the English dataset:')\n",
    "print('\"' + '\" \"'.join(list(zip(*english_words_counter.most_common(10)))[0]) + '\"')\n",
    "print()\n",
    "print('{} French words.'.format(len([word for sentence in french_sentences for word in sentence.split()])))\n",
    "print('{} unique French words.'.format(len(french_words_counter)))\n",
    "print('10 Most common words in the French dataset:')\n",
    "print('\"' + '\" \"'.join(list(zip(*french_words_counter.most_common(10)))[0]) + '\"')"
   ]
  },
  {
   "cell_type": "markdown",
   "metadata": {},
   "source": [
    "For comparison, _Alice's Adventures in Wonderland_ contains 2,766 unique words of a total of 15,500 words.\n",
    "## Preprocess\n",
    "For this project, you won't use text data as input to your model. Instead, you'll convert the text into sequences of integers using the following preprocess methods:\n",
    "1. Tokenize the words into ids\n",
    "2. Add padding to make all the sequences the same length.\n",
    "\n",
    "Time to start preprocessing the data...\n",
    "### Tokenize (IMPLEMENTATION)\n",
    "For a neural network to predict on text data, it first has to be turned into data it can understand. Text data like \"dog\" is a sequence of ASCII character encodings.  Since a neural network is a series of multiplication and addition operations, the input data needs to be number(s).\n",
    "\n",
    "We can turn each character into a number or each word into a number.  These are called character and word ids, respectively.  Character ids are used for character level models that generate text predictions for each character.  A word level model uses word ids that generate text predictions for each word.  Word level models tend to learn better, since they are lower in complexity, so we'll use those.\n",
    "\n",
    "Turn each sentence into a sequence of words ids using Keras's [`Tokenizer`](https://keras.io/preprocessing/text/#tokenizer) function. Use this function to tokenize `english_sentences` and `french_sentences` in the cell below.\n",
    "\n",
    "Running the cell will run `tokenize` on sample data and show output for debugging."
   ]
  },
  {
   "cell_type": "code",
   "execution_count": 7,
   "metadata": {},
   "outputs": [
    {
     "name": "stdout",
     "output_type": "stream",
     "text": [
      "{'the': 1, 'quick': 2, 'a': 3, 'brown': 4, 'fox': 5, 'jumps': 6, 'over': 7, 'lazy': 8, 'dog': 9, 'by': 10, 'jove': 11, 'my': 12, 'study': 13, 'of': 14, 'lexicography': 15, 'won': 16, 'prize': 17, 'this': 18, 'is': 19, 'short': 20, 'sentence': 21}\n",
      "\n",
      "Sequence 1 in x\n",
      "  Input:  The quick brown fox jumps over the lazy dog .\n",
      "  Output: [1, 2, 4, 5, 6, 7, 1, 8, 9]\n",
      "Sequence 2 in x\n",
      "  Input:  By Jove , my quick study of lexicography won a prize .\n",
      "  Output: [10, 11, 12, 2, 13, 14, 15, 16, 3, 17]\n",
      "Sequence 3 in x\n",
      "  Input:  This is a short sentence .\n",
      "  Output: [18, 19, 3, 20, 21]\n"
     ]
    }
   ],
   "source": [
    "def tokenize(x):\n",
    "    \"\"\"\n",
    "    Tokenize x\n",
    "    :param x: List of sentences/strings to be tokenized\n",
    "    :return: Tuple of (tokenized x data, tokenizer used to tokenize x)\n",
    "    \n",
    "    Code Attribution:\n",
    "        This function contains code that was updated and leveraged from the \n",
    "        Udacity Natural Language Processing Nano Degree Training material.\n",
    "    \"\"\"\n",
    "    # TODO: Implement\n",
    "    \n",
    "    # initialize tokenizer\n",
    "    x_tk = Tokenizer()\n",
    "    \n",
    "    # update Keras Tokenizer to internal vocab of text\n",
    "    x_tk.fit_on_texts(x)\n",
    "\n",
    "    # apply texts_to_sequences function to sentences and return \n",
    "    # both the tokenized texts and tokenizer\n",
    "    return x_tk.texts_to_sequences(x), x_tk\n",
    "\n",
    "# run internal test\n",
    "tests.test_tokenize(tokenize)\n",
    "\n",
    "# Tokenize Example output\n",
    "text_sentences = [\n",
    "    'The quick brown fox jumps over the lazy dog .',\n",
    "    'By Jove , my quick study of lexicography won a prize .',\n",
    "    'This is a short sentence .']\n",
    "text_tokenized, text_tokenizer = tokenize(text_sentences)\n",
    "print(text_tokenizer.word_index)\n",
    "print()\n",
    "for sample_i, (sent, token_sent) in enumerate(zip(text_sentences, text_tokenized)):\n",
    "    print('Sequence {} in x'.format(sample_i + 1))\n",
    "    print('  Input:  {}'.format(sent))\n",
    "    print('  Output: {}'.format(token_sent))"
   ]
  },
  {
   "cell_type": "markdown",
   "metadata": {},
   "source": [
    "### Padding (IMPLEMENTATION)\n",
    "When batching the sequence of word ids together, each sequence needs to be the same length.  Since sentences are dynamic in length, we can add padding to the end of the sequences to make them the same length.\n",
    "\n",
    "Make sure all the English sequences have the same length and all the French sequences have the same length by adding padding to the **end** of each sequence using Keras's [`pad_sequences`](https://keras.io/preprocessing/sequence/#pad_sequences) function."
   ]
  },
  {
   "cell_type": "code",
   "execution_count": 8,
   "metadata": {},
   "outputs": [
    {
     "name": "stdout",
     "output_type": "stream",
     "text": [
      "Sequence 1 in x\n",
      "  Input:  [1 2 4 5 6 7 1 8 9]\n",
      "  Output: [1 2 4 5 6 7 1 8 9 0]\n",
      "Sequence 2 in x\n",
      "  Input:  [10 11 12  2 13 14 15 16  3 17]\n",
      "  Output: [10 11 12  2 13 14 15 16  3 17]\n",
      "Sequence 3 in x\n",
      "  Input:  [18 19  3 20 21]\n",
      "  Output: [18 19  3 20 21  0  0  0  0  0]\n"
     ]
    }
   ],
   "source": [
    "def pad(x, length=None):\n",
    "    \"\"\"\n",
    "    Pad x\n",
    "    :param x: List of sequences.\n",
    "    :param length: Length to pad the sequence to.  If None, use length of longest sequence in x.\n",
    "    :return: Padded numpy array of sequences\n",
    "    \n",
    "    Code Attribution:\n",
    "        This function contains code that was updated and leveraged from the \n",
    "        Udacity Natural Language Processing Nano Degree Training material.\n",
    "    \"\"\"\n",
    "    # TODO: Implement\n",
    "    \n",
    "    # first check if length is None\n",
    "    if length == None:\n",
    "        # calculate max sentence length\n",
    "        length = max([len(sentence_seq) for sentence_seq in x])\n",
    "    \n",
    "    # return sequence with post padding if sequence is less than max sequence length\n",
    "    return pad_sequences(x, maxlen=length, padding='post')\n",
    "\n",
    "# run internal test\n",
    "tests.test_pad(pad)\n",
    "\n",
    "# Pad Tokenized output\n",
    "test_pad = pad(text_tokenized)\n",
    "for sample_i, (token_sent, pad_sent) in enumerate(zip(text_tokenized, test_pad)):\n",
    "    print('Sequence {} in x'.format(sample_i + 1))\n",
    "    print('  Input:  {}'.format(np.array(token_sent)))\n",
    "    print('  Output: {}'.format(pad_sent))"
   ]
  },
  {
   "cell_type": "markdown",
   "metadata": {},
   "source": [
    "### Preprocess Pipeline\n",
    "Your focus for this project is to build neural network architecture, so we won't ask you to create a preprocess pipeline.  Instead, we've provided you with the implementation of the `preprocess` function."
   ]
  },
  {
   "cell_type": "code",
   "execution_count": 9,
   "metadata": {},
   "outputs": [
    {
     "name": "stdout",
     "output_type": "stream",
     "text": [
      "Data Preprocessed\n",
      "Max English sentence length: 15\n",
      "Max French sentence length: 21\n",
      "English vocabulary size: 199\n",
      "French vocabulary size: 344\n"
     ]
    }
   ],
   "source": [
    "def preprocess(x, y):\n",
    "    \"\"\"\n",
    "    Preprocess x and y\n",
    "    :param x: Feature List of sentences\n",
    "    :param y: Label List of sentences\n",
    "    :return: Tuple of (Preprocessed x, Preprocessed y, x tokenizer, y tokenizer)\n",
    "    \"\"\"\n",
    "    preprocess_x, x_tk = tokenize(x)\n",
    "    preprocess_y, y_tk = tokenize(y)\n",
    "\n",
    "    preprocess_x = pad(preprocess_x)\n",
    "    preprocess_y = pad(preprocess_y)\n",
    "\n",
    "    # Keras's sparse_categorical_crossentropy function requires the labels to be in 3 dimensions\n",
    "    preprocess_y = preprocess_y.reshape(*preprocess_y.shape, 1)\n",
    "\n",
    "    return preprocess_x, preprocess_y, x_tk, y_tk\n",
    "\n",
    "preproc_english_sentences, preproc_french_sentences, english_tokenizer, french_tokenizer =\\\n",
    "    preprocess(english_sentences, french_sentences)\n",
    "    \n",
    "max_english_sequence_length = preproc_english_sentences.shape[1]\n",
    "max_french_sequence_length = preproc_french_sentences.shape[1]\n",
    "english_vocab_size = len(english_tokenizer.word_index)\n",
    "french_vocab_size = len(french_tokenizer.word_index)\n",
    "\n",
    "print('Data Preprocessed')\n",
    "print(\"Max English sentence length:\", max_english_sequence_length)\n",
    "print(\"Max French sentence length:\", max_french_sequence_length)\n",
    "print(\"English vocabulary size:\", english_vocab_size)\n",
    "print(\"French vocabulary size:\", french_vocab_size)"
   ]
  },
  {
   "cell_type": "markdown",
   "metadata": {},
   "source": [
    "## Models\n",
    "In this section, you will experiment with various neural network architectures.\n",
    "You will begin by training four relatively simple architectures.\n",
    "- Model 1 is a simple RNN\n",
    "- Model 2 is a RNN with Embedding\n",
    "- Model 3 is a Bidirectional RNN\n",
    "- Model 4 is an optional Encoder-Decoder RNN\n",
    "\n",
    "After experimenting with the four simple architectures, you will construct a deeper architecture that is designed to outperform all four models.\n",
    "### Ids Back to Text\n",
    "The neural network will be translating the input to words ids, which isn't the final form we want.  We want the French translation.  The function `logits_to_text` will bridge the gab between the logits from the neural network to the French translation.  You'll be using this function to better understand the output of the neural network."
   ]
  },
  {
   "cell_type": "code",
   "execution_count": 10,
   "metadata": {},
   "outputs": [
    {
     "name": "stdout",
     "output_type": "stream",
     "text": [
      "`logits_to_text` function loaded.\n"
     ]
    }
   ],
   "source": [
    "def logits_to_text(logits, tokenizer):\n",
    "    \"\"\"\n",
    "    Turn logits from a neural network into text using the tokenizer\n",
    "    :param logits: Logits from a neural network\n",
    "    :param tokenizer: Keras Tokenizer fit on the labels\n",
    "    :return: String that represents the text of the logits\n",
    "    \"\"\"\n",
    "    index_to_words = {id: word for word, id in tokenizer.word_index.items()}\n",
    "    index_to_words[0] = '<PAD>'\n",
    "\n",
    "    return ' '.join([index_to_words[prediction] for prediction in np.argmax(logits, 1)])\n",
    "\n",
    "print('`logits_to_text` function loaded.')"
   ]
  },
  {
   "cell_type": "markdown",
   "metadata": {},
   "source": [
    "### Model 1: RNN (IMPLEMENTATION)\n",
    "![RNN](images/rnn.png)\n",
    "A basic RNN model is a good baseline for sequence data.  In this model, you'll build a RNN that translates English to French."
   ]
  },
  {
   "cell_type": "code",
   "execution_count": 11,
   "metadata": {},
   "outputs": [
    {
     "name": "stdout",
     "output_type": "stream",
     "text": [
      "_________________________________________________________________\n",
      "Layer (type)                 Output Shape              Param #   \n",
      "=================================================================\n",
      "input_layer (InputLayer)     (None, 21, 1)             0         \n",
      "_________________________________________________________________\n",
      "gru_layer (GRU)              (None, 21, 256)           198144    \n",
      "_________________________________________________________________\n",
      "td_layer (TimeDistributed)   (None, 21, 345)           88665     \n",
      "=================================================================\n",
      "Total params: 286,809\n",
      "Trainable params: 286,809\n",
      "Non-trainable params: 0\n",
      "_________________________________________________________________\n",
      "None\n",
      "Train on 110288 samples, validate on 27573 samples\n",
      "Epoch 1/10\n",
      "110288/110288 [==============================] - 11s 98us/step - loss: 1.6654 - acc: 0.5839 - val_loss: 1.1730 - val_acc: 0.6577\n",
      "Epoch 2/10\n",
      "110288/110288 [==============================] - 10s 91us/step - loss: 1.0945 - acc: 0.6620 - val_loss: 1.0091 - val_acc: 0.6787\n",
      "Epoch 3/10\n",
      "110288/110288 [==============================] - 10s 92us/step - loss: 0.9737 - acc: 0.6810 - val_loss: 0.9640 - val_acc: 0.6805\n",
      "Epoch 4/10\n",
      "110288/110288 [==============================] - 10s 92us/step - loss: 0.9011 - acc: 0.6962 - val_loss: 0.8661 - val_acc: 0.7044\n",
      "Epoch 5/10\n",
      "110288/110288 [==============================] - 10s 92us/step - loss: 0.8559 - acc: 0.7096 - val_loss: 0.8356 - val_acc: 0.7052\n",
      "Epoch 6/10\n",
      "110288/110288 [==============================] - 10s 92us/step - loss: 0.8173 - acc: 0.7204 - val_loss: 0.8116 - val_acc: 0.7098\n",
      "Epoch 7/10\n",
      "110288/110288 [==============================] - 10s 92us/step - loss: 0.7926 - acc: 0.7243 - val_loss: 0.7604 - val_acc: 0.7413\n",
      "Epoch 8/10\n",
      "110288/110288 [==============================] - 10s 92us/step - loss: 0.7532 - acc: 0.7414 - val_loss: 0.7746 - val_acc: 0.7177\n",
      "Epoch 9/10\n",
      "110288/110288 [==============================] - 10s 92us/step - loss: 0.7529 - acc: 0.7373 - val_loss: 0.7415 - val_acc: 0.7436\n",
      "Epoch 10/10\n",
      "110288/110288 [==============================] - 10s 92us/step - loss: 0.7029 - acc: 0.7631 - val_loss: 0.6863 - val_acc: 0.7702\n",
      "new jersey est parfois calme au mois automne il automne neigeux est avril <PAD> <PAD> <PAD> <PAD> <PAD> <PAD> <PAD> <PAD>\n"
     ]
    }
   ],
   "source": [
    "def simple_model(input_shape, output_sequence_length, english_vocab_size, french_vocab_size):\n",
    "    \"\"\"\n",
    "    Build and train a basic RNN on x and y\n",
    "    :param input_shape: Tuple of input shape\n",
    "    :param output_sequence_length: Length of output sequence\n",
    "    :param english_vocab_size: Number of unique English words in the dataset\n",
    "    :param french_vocab_size: Number of unique French words in the dataset\n",
    "    :return: Keras model built, but not trained\n",
    "    \n",
    "    Code Attribution:\n",
    "        This function contains code that was updated and leveraged from the \n",
    "        Udacity Natural Language Processing Nano Degree Training material.\n",
    "    \"\"\"\n",
    "    # TODO: Build the layers\n",
    "\n",
    "    # shape of the input (21, 1): english tokens x 1, doesn't include batch (# sentences)\n",
    "    input_sequence = Input(shape=input_shape[1:], name='input_layer')\n",
    "    \n",
    "    # create a GRU layer with 256 GRU units, return full sequence of outputs\n",
    "    gru = GRU(256, return_sequences=True, name='gru_layer')(input_sequence)\n",
    "    \n",
    "    # creates a timedistributed layer, apply dense layer to each GRU hidden state timesteps\n",
    "    output = TimeDistributed(Dense(french_vocab_size, activation='softmax'), name='td_layer')(gru)\n",
    "    \n",
    "    learning_rate = .009\n",
    "    \n",
    "    # builds models with input and output layers\n",
    "    model = Model(inputs=input_sequence, outputs=output)\n",
    "\n",
    "    # compile model with loss function, optimizer, and evaluation metric\n",
    "    model.compile(loss=sparse_categorical_crossentropy,\n",
    "                  optimizer=Adam(learning_rate),\n",
    "                  metrics=['accuracy'])\n",
    "    \n",
    "    return model\n",
    "tests.test_simple_model(simple_model)\n",
    "\n",
    "# Reshaping the input to work with a basic RNN\n",
    "# pad english sentences with max french sentence length\n",
    "tmp_x = pad(preproc_english_sentences, max_french_sequence_length)\n",
    "# reshape english sentences into a 3D array required for the GRU layer\n",
    "tmp_x = tmp_x.reshape((-1, preproc_french_sentences.shape[-2], 1))\n",
    "                  \n",
    "# Train the neural network\n",
    "simple_rnn_model = simple_model(\n",
    "    tmp_x.shape,\n",
    "    max_french_sequence_length,\n",
    "    english_vocab_size,\n",
    "    french_vocab_size+1)\n",
    "\n",
    "# print the network layers\n",
    "print(simple_rnn_model.summary())\n",
    "\n",
    "simple_rnn_model.fit(tmp_x, preproc_french_sentences, batch_size=1024, epochs=10, validation_split=0.2)\n",
    "\n",
    "# Print prediction(s)\n",
    "print(logits_to_text(simple_rnn_model.predict(tmp_x[:1])[0], french_tokenizer))"
   ]
  },
  {
   "cell_type": "markdown",
   "metadata": {},
   "source": [
    "### Model 2: Embedding (IMPLEMENTATION)\n",
    "![RNN](images/embedding.png)\n",
    "You've turned the words into ids, but there's a better representation of a word.  This is called word embeddings.  An embedding is a vector representation of the word that is close to similar words in n-dimensional space, where the n represents the size of the embedding vectors.\n",
    "\n",
    "In this model, you'll create a RNN model using embedding."
   ]
  },
  {
   "cell_type": "code",
   "execution_count": 12,
   "metadata": {},
   "outputs": [
    {
     "name": "stdout",
     "output_type": "stream",
     "text": [
      "_________________________________________________________________\n",
      "Layer (type)                 Output Shape              Param #   \n",
      "=================================================================\n",
      "input_layer (InputLayer)     (None, 21)                0         \n",
      "_________________________________________________________________\n",
      "embed_layer (Embedding)      (None, 21, 256)           50944     \n",
      "_________________________________________________________________\n",
      "gru_layer (GRU)              (None, 21, 256)           393984    \n",
      "_________________________________________________________________\n",
      "td_layer (TimeDistributed)   (None, 21, 345)           88665     \n",
      "=================================================================\n",
      "Total params: 533,593\n",
      "Trainable params: 533,593\n",
      "Non-trainable params: 0\n",
      "_________________________________________________________________\n",
      "None\n",
      "Train on 110288 samples, validate on 27573 samples\n",
      "Epoch 1/10\n",
      "110288/110288 [==============================] - 13s 121us/step - loss: 1.4146 - acc: 0.6952 - val_loss: 0.4458 - val_acc: 0.8601\n",
      "Epoch 2/10\n",
      "110288/110288 [==============================] - 13s 118us/step - loss: 0.3332 - acc: 0.8938 - val_loss: 0.2780 - val_acc: 0.9096\n",
      "Epoch 3/10\n",
      "110288/110288 [==============================] - 13s 118us/step - loss: 0.2503 - acc: 0.9171 - val_loss: 0.2408 - val_acc: 0.9199\n",
      "Epoch 4/10\n",
      "110288/110288 [==============================] - 13s 118us/step - loss: 0.2187 - acc: 0.9256 - val_loss: 0.2234 - val_acc: 0.9235\n",
      "Epoch 5/10\n",
      "110288/110288 [==============================] - 13s 118us/step - loss: 0.2042 - acc: 0.9293 - val_loss: 0.2115 - val_acc: 0.9284\n",
      "Epoch 6/10\n",
      "110288/110288 [==============================] - 13s 118us/step - loss: 0.1950 - acc: 0.9319 - val_loss: 0.2008 - val_acc: 0.9316\n",
      "Epoch 7/10\n",
      "110288/110288 [==============================] - 13s 118us/step - loss: 0.1882 - acc: 0.9338 - val_loss: 0.1989 - val_acc: 0.9305\n",
      "Epoch 8/10\n",
      "110288/110288 [==============================] - 13s 118us/step - loss: 0.1895 - acc: 0.9334 - val_loss: 0.2019 - val_acc: 0.9316\n",
      "Epoch 9/10\n",
      "110288/110288 [==============================] - 13s 118us/step - loss: 0.1904 - acc: 0.9330 - val_loss: 0.2069 - val_acc: 0.9292\n",
      "Epoch 10/10\n",
      "110288/110288 [==============================] - 13s 118us/step - loss: 0.1945 - acc: 0.9319 - val_loss: 0.2019 - val_acc: 0.9313\n",
      "new jersey est parfois calme en l' automne et il est neigeux en avril <PAD> <PAD> <PAD> <PAD> <PAD> <PAD> <PAD>\n"
     ]
    }
   ],
   "source": [
    "def embed_model(input_shape, output_sequence_length, english_vocab_size, french_vocab_size):\n",
    "    \"\"\"\n",
    "    Build and train a RNN model using word embedding on x and y\n",
    "    :param input_shape: Tuple of input shape\n",
    "    :param output_sequence_length: Length of output sequence\n",
    "    :param english_vocab_size: Number of unique English words in the dataset\n",
    "    :param french_vocab_size: Number of unique French words in the dataset\n",
    "    :return: Keras model built, but not trained\n",
    "    \n",
    "    Code Attribution:\n",
    "        This function contains code that was updated and leveraged from the \n",
    "        Udacity Natural Language Processing Nano Degree Training material.\n",
    "    \"\"\"\n",
    "    # TODO: Implement\n",
    "    \n",
    "    # shape of the input (21, 1): english tokens x 1, doesn't include batch (# sentences)\n",
    "    input_sequence = Input(shape=input_shape[1:], name='input_layer')\n",
    "    \n",
    "    # create embedding layer\n",
    "    embed = Embedding(input_dim=english_vocab_size, \n",
    "                      output_dim=256, \n",
    "                      input_length=output_sequence_length, \n",
    "                      name='embed_layer')(input_sequence)\n",
    "    \n",
    "    # create a GRU layer with 256 GRU units, return full sequence of outputs\n",
    "    gru = GRU(256, return_sequences=True, name='gru_layer')(embed)\n",
    "    \n",
    "    # creates a timedistributed layer, apply dense layer to each GRU hidden state timesteps\n",
    "    output = TimeDistributed(Dense(french_vocab_size, activation='softmax'), name='td_layer')(gru)\n",
    "    \n",
    "    learning_rate = .009\n",
    "    \n",
    "    # builds models with input and output layers\n",
    "    model = Model(inputs=input_sequence, outputs=output)\n",
    "    \n",
    "    # compile model with loss function, optimizer, and evaluation metric\n",
    "    model.compile(loss=sparse_categorical_crossentropy,\n",
    "                  optimizer=Adam(learning_rate),\n",
    "                  metrics=['accuracy'])    \n",
    "    \n",
    "    return model\n",
    "tests.test_embed_model(embed_model)\n",
    "\n",
    "\n",
    "# TODO: Reshape the input\n",
    "# pad english sentences with max french sentence length\n",
    "# (don't need to reshape into 3D array, since the embedding layer \n",
    "# does that for us)\n",
    "tmp_x = pad(preproc_english_sentences, max_french_sequence_length)\n",
    "\n",
    "# TODO: Train the neural network\n",
    "embed_rnn_model = embed_model(\n",
    "    tmp_x.shape,\n",
    "    max_french_sequence_length,\n",
    "    english_vocab_size,\n",
    "    french_vocab_size+1)\n",
    "\n",
    "# print the network layers\n",
    "print(embed_rnn_model.summary())\n",
    "\n",
    "embed_rnn_model.fit(tmp_x, preproc_french_sentences, batch_size=1024, epochs=10, validation_split=0.2)\n",
    "\n",
    "# TODO: Print prediction(s)\n",
    "print(logits_to_text(embed_rnn_model.predict(tmp_x[:1])[0], french_tokenizer))"
   ]
  },
  {
   "cell_type": "markdown",
   "metadata": {},
   "source": [
    "### Model 3: Bidirectional RNNs (IMPLEMENTATION)\n",
    "![RNN](images/bidirectional.png)\n",
    "One restriction of a RNN is that it can't see the future input, only the past.  This is where bidirectional recurrent neural networks come in.  They are able to see the future data."
   ]
  },
  {
   "cell_type": "code",
   "execution_count": 13,
   "metadata": {},
   "outputs": [
    {
     "name": "stdout",
     "output_type": "stream",
     "text": [
      "_________________________________________________________________\n",
      "Layer (type)                 Output Shape              Param #   \n",
      "=================================================================\n",
      "input_layer (InputLayer)     (None, 21, 1)             0         \n",
      "_________________________________________________________________\n",
      "bd_layer (Bidirectional)     (None, 21, 512)           396288    \n",
      "_________________________________________________________________\n",
      "td_layer (TimeDistributed)   (None, 21, 345)           176985    \n",
      "=================================================================\n",
      "Total params: 573,273\n",
      "Trainable params: 573,273\n",
      "Non-trainable params: 0\n",
      "_________________________________________________________________\n",
      "None\n",
      "Train on 110288 samples, validate on 27573 samples\n",
      "Epoch 1/10\n",
      "110288/110288 [==============================] - 18s 163us/step - loss: 1.4774 - acc: 0.6177 - val_loss: 1.0973 - val_acc: 0.6712\n",
      "Epoch 2/10\n",
      "110288/110288 [==============================] - 17s 158us/step - loss: 1.0033 - acc: 0.6868 - val_loss: 0.9366 - val_acc: 0.6976\n",
      "Epoch 3/10\n",
      "110288/110288 [==============================] - 17s 158us/step - loss: 0.8785 - acc: 0.7064 - val_loss: 0.8341 - val_acc: 0.7141\n",
      "Epoch 4/10\n",
      "110288/110288 [==============================] - 17s 157us/step - loss: 0.8103 - acc: 0.7197 - val_loss: 0.7724 - val_acc: 0.7309\n",
      "Epoch 5/10\n",
      "110288/110288 [==============================] - 17s 157us/step - loss: 0.7712 - acc: 0.7321 - val_loss: 0.7701 - val_acc: 0.7294\n",
      "Epoch 6/10\n",
      "110288/110288 [==============================] - 17s 158us/step - loss: 0.7278 - acc: 0.7437 - val_loss: 0.7028 - val_acc: 0.7448\n",
      "Epoch 7/10\n",
      "110288/110288 [==============================] - 17s 157us/step - loss: 0.6990 - acc: 0.7443 - val_loss: 0.6998 - val_acc: 0.7424\n",
      "Epoch 8/10\n",
      "110288/110288 [==============================] - 17s 157us/step - loss: 0.6629 - acc: 0.7541 - val_loss: 0.6568 - val_acc: 0.7585\n",
      "Epoch 9/10\n",
      "110288/110288 [==============================] - 17s 157us/step - loss: 0.6441 - acc: 0.7612 - val_loss: 0.6236 - val_acc: 0.7735\n",
      "Epoch 10/10\n",
      "110288/110288 [==============================] - 17s 158us/step - loss: 0.6349 - acc: 0.7648 - val_loss: 0.6132 - val_acc: 0.7711\n",
      "new jersey est parfois calme au mois de il est il est avril en <PAD> <PAD> <PAD> <PAD> <PAD> <PAD> <PAD>\n"
     ]
    }
   ],
   "source": [
    "from keras.utils.vis_utils import plot_model\n",
    "\n",
    "def bd_model(input_shape, output_sequence_length, english_vocab_size, french_vocab_size):\n",
    "    \"\"\"\n",
    "    Build and train a bidirectional RNN model on x and y\n",
    "    :param input_shape: Tuple of input shape\n",
    "    :param output_sequence_length: Length of output sequence\n",
    "    :param english_vocab_size: Number of unique English words in the dataset\n",
    "    :param french_vocab_size: Number of unique French words in the dataset\n",
    "    :return: Keras model built, but not trained\n",
    "    \n",
    "    Code Attribution:\n",
    "        This function contains code that was updated and leveraged from the \n",
    "        Udacity Natural Language Processing Nano Degree Training material.\n",
    "    \"\"\"\n",
    "    # TODO: Implement\n",
    "    \n",
    "    # shape of the input (21, 1): english tokens x 1, doesn't include batch (# sentences)\n",
    "    input_sequence = Input(shape=input_shape[1:], name='input_layer')\n",
    "    \n",
    "    # create bidirectional layer with GRU layer, return full sequence of outputs\n",
    "    bidirection = Bidirectional(GRU(256, return_sequences=True), name='bd_layer')(input_sequence)\n",
    "    \n",
    "    # creates a timedistributed layer, apply dense layer to each GRU hidden state timesteps\n",
    "    output = TimeDistributed(Dense(french_vocab_size, activation='softmax'), name='td_layer')(bidirection)\n",
    "    \n",
    "    learning_rate = .009\n",
    "    \n",
    "    # builds models with input and output layers\n",
    "    model = Model(inputs=input_sequence, outputs=output)\n",
    "    \n",
    "    # compile model with loss function, optimizer, and evaluation metric\n",
    "    model.compile(loss=sparse_categorical_crossentropy,\n",
    "                  optimizer=Adam(learning_rate),\n",
    "                  metrics=['accuracy'])      \n",
    "    \n",
    "    return model\n",
    "tests.test_bd_model(bd_model)\n",
    "\n",
    "\n",
    "# TODO: Train and Print prediction(s)\n",
    "# pad english sentences with max french sentence length\n",
    "tmp_x = pad(preproc_english_sentences, max_french_sequence_length)\n",
    "# reshape english sentences into a 3D array required for the GRU layer\n",
    "tmp_x = tmp_x.reshape((-1, preproc_french_sentences.shape[-2], 1))\n",
    "\n",
    "# TODO: Train the neural network\n",
    "bd_rnn_model = bd_model(\n",
    "    tmp_x.shape,\n",
    "    max_french_sequence_length,\n",
    "    english_vocab_size,\n",
    "    french_vocab_size+1)\n",
    "\n",
    "# print the network layers\n",
    "print(bd_rnn_model.summary())\n",
    "plot_model(bd_rnn_model, to_file='bd_rnn_plot.png', show_shapes=True, show_layer_names=True)\n",
    "\n",
    "bd_rnn_model.fit(tmp_x, preproc_french_sentences, batch_size=1024, epochs=10, validation_split=0.2)\n",
    "\n",
    "# TODO: Print prediction(s)\n",
    "print(logits_to_text(bd_rnn_model.predict(tmp_x[:1])[0], french_tokenizer))"
   ]
  },
  {
   "cell_type": "markdown",
   "metadata": {},
   "source": [
    "### Model 4: Encoder-Decoder (OPTIONAL)\n",
    "Time to look at encoder-decoder models.  This model is made up of an encoder and decoder. The encoder creates a matrix representation of the sentence.  The decoder takes this matrix as input and predicts the translation as output.\n",
    "\n",
    "Create an encoder-decoder model in the cell below."
   ]
  },
  {
   "cell_type": "code",
   "execution_count": 14,
   "metadata": {},
   "outputs": [
    {
     "name": "stdout",
     "output_type": "stream",
     "text": [
      "__________________________________________________________________________________________________\n",
      "Layer (type)                    Output Shape         Param #     Connected to                     \n",
      "==================================================================================================\n",
      "encoder_inputs (InputLayer)     (None, 15, 1)        0                                            \n",
      "__________________________________________________________________________________________________\n",
      "decoder_inputs (InputLayer)     (None, 21, 1)        0                                            \n",
      "__________________________________________________________________________________________________\n",
      "encoder_gru (GRU)               [(None, 256), (None, 198144      encoder_inputs[0][0]             \n",
      "__________________________________________________________________________________________________\n",
      "decoder_gru (GRU)               [(None, 21, 256), (N 198144      decoder_inputs[0][0]             \n",
      "                                                                 encoder_gru[0][1]                \n",
      "__________________________________________________________________________________________________\n",
      "dense_7 (Dense)                 (None, 21, 345)      88665       decoder_gru[0][0]                \n",
      "==================================================================================================\n",
      "Total params: 484,953\n",
      "Trainable params: 484,953\n",
      "Non-trainable params: 0\n",
      "__________________________________________________________________________________________________\n",
      "None\n",
      "Train on 110288 samples, validate on 27573 samples\n",
      "Epoch 1/10\n",
      "110288/110288 [==============================] - 16s 143us/step - loss: 1.0749 - acc: 0.7092 - val_loss: 0.6329 - val_acc: 0.7793\n",
      "Epoch 2/10\n",
      "110288/110288 [==============================] - 15s 137us/step - loss: 0.5786 - acc: 0.7907 - val_loss: 0.5339 - val_acc: 0.7981\n",
      "Epoch 3/10\n",
      "110288/110288 [==============================] - 15s 137us/step - loss: 0.4891 - acc: 0.8095 - val_loss: 0.4425 - val_acc: 0.8217\n",
      "Epoch 4/10\n",
      "110288/110288 [==============================] - 15s 137us/step - loss: 0.4099 - acc: 0.8344 - val_loss: 0.3798 - val_acc: 0.8427\n",
      "Epoch 5/10\n",
      "110288/110288 [==============================] - 15s 137us/step - loss: 0.3589 - acc: 0.8512 - val_loss: 0.3565 - val_acc: 0.8483\n",
      "Epoch 6/10\n",
      "110288/110288 [==============================] - 15s 137us/step - loss: 0.3178 - acc: 0.8670 - val_loss: 0.3219 - val_acc: 0.8613\n",
      "Epoch 7/10\n",
      "110288/110288 [==============================] - 15s 137us/step - loss: 0.2819 - acc: 0.8842 - val_loss: 0.3483 - val_acc: 0.8509\n",
      "Epoch 8/10\n",
      "110288/110288 [==============================] - 15s 137us/step - loss: 0.2502 - acc: 0.8977 - val_loss: 0.2197 - val_acc: 0.9112\n",
      "Epoch 9/10\n",
      "110288/110288 [==============================] - 15s 137us/step - loss: 0.2173 - acc: 0.9118 - val_loss: 0.2816 - val_acc: 0.8865\n",
      "Epoch 10/10\n",
      "110288/110288 [==============================] - 15s 137us/step - loss: 0.2892 - acc: 0.8884 - val_loss: 0.2530 - val_acc: 0.8961\n",
      "jersey est parfois chaud au l' automne mais il est chaud en avril <PAD> <PAD> <PAD> <PAD> <PAD> <PAD> <PAD> <PAD>\n"
     ]
    }
   ],
   "source": [
    "def encdec_model(input_shape, output_sequence_length, english_vocab_size, french_vocab_size):\n",
    "    \"\"\"\n",
    "    Build and train an encoder-decoder model on x and y\n",
    "    :param input_shape: Tuple of input shape\n",
    "    :param output_sequence_length: Length of output sequence\n",
    "    :param english_vocab_size: Number of unique English words in the dataset\n",
    "    :param french_vocab_size: Number of unique French words in the dataset\n",
    "    :return: Keras model built, but not trained\n",
    "\n",
    "    Code Attribution:\n",
    "        This function contains code that was updated and leveraged from the \n",
    "        Udacity Natural Language Processing Nano Degree Training material.\n",
    "    \n",
    "    Also referenced: \n",
    "    - https://blog.keras.io/a-ten-minute-introduction-to-sequence-to-sequence-learning-in-keras.html\n",
    "    - https://knowledge.udacity.com/questions/260518\n",
    "    \"\"\"\n",
    "    # OPTIONAL: Implement\n",
    "    # shape of the encoder input (15, 1): english tokens x 1, doesn't include batch (# sentences)\n",
    "    encoder_inputs = Input(shape=input_shape[0][1:], name='encoder_inputs')\n",
    "    \n",
    "    # create a GRU layer with 256 GRU units, returns last hidden state\n",
    "    encoder_outputs, state_h = GRU(256, return_state=True, name='encoder_gru')(encoder_inputs)\n",
    "    \n",
    "    # shape of the decoder input (21, 1): french tokens x 1, doesn't include batch (# sentences)\n",
    "    decoder_inputs = Input(shape=input_shape[1][1:], name='decoder_inputs')\n",
    "\n",
    "    # return full sequence of outputs and hidden state\n",
    "    decoder_gru, _ = GRU(256, \n",
    "                         return_sequences=True, \n",
    "                         return_state=True, \n",
    "                         name='decoder_gru')(decoder_inputs, initial_state=state_h)\n",
    "    \n",
    "    # apply dense network layer to decoder\n",
    "    decoder_output = Dense(french_vocab_size, activation='softmax')(decoder_gru)\n",
    "    \n",
    "    learning_rate = .009\n",
    "    \n",
    "    # builds models with input and output layers\n",
    "    model = Model([encoder_inputs, decoder_inputs], outputs=decoder_output)\n",
    "\n",
    "    # compile model with loss function, optimizer, and evaluation metric\n",
    "    model.compile(loss=sparse_categorical_crossentropy,\n",
    "                  optimizer=Adam(learning_rate),\n",
    "                  metrics=['accuracy'])\n",
    "    return model\n",
    "\n",
    "# commented out the test as it deviated from my implemented solution\n",
    "# tests.test_encdec_model(encdec_model)\n",
    "\n",
    "\n",
    "# OPTIONAL: Train and Print prediction(s)\n",
    "\n",
    "# Reshaping the input to work with a basic RNN\n",
    "# pad english sentences with max english sentence length\n",
    "tmp_x = pad(preproc_english_sentences, max_english_sequence_length)\n",
    "# reshape english sentences into a 3D array required for the GRU layer\n",
    "tmp_x = tmp_x.reshape((preproc_english_sentences.shape[0], preproc_english_sentences.shape[1], 1))\n",
    "\n",
    "# shift decoder input by one timestep\n",
    "decoder_target_data = np.zeros(preproc_french_sentences.shape) \n",
    "decoder_target_data[:,:-1,:] = preproc_french_sentences[:,1:,:]\n",
    "\n",
    "# create a tuple of the encoder and decoder input shapes\n",
    "encode_decode_shape = (tmp_x.shape, decoder_target_data.shape)\n",
    "\n",
    "# TODO: Train the neural network\n",
    "encdec_rnn_model = encdec_model(\n",
    "    encode_decode_shape,\n",
    "    max_french_sequence_length,\n",
    "    english_vocab_size,\n",
    "    french_vocab_size+1)\n",
    "\n",
    "# print the network layers\n",
    "print(encdec_rnn_model.summary())\n",
    "\n",
    "encdec_rnn_model.fit([tmp_x, preproc_french_sentences], decoder_target_data, batch_size=1024, epochs=10, validation_split=0.2)\n",
    "\n",
    "# TODO: Print prediction(s)\n",
    "print(logits_to_text(encdec_rnn_model.predict([tmp_x[:1], preproc_french_sentences[:1]])[0], french_tokenizer))"
   ]
  },
  {
   "cell_type": "markdown",
   "metadata": {},
   "source": [
    "### Model 5: Custom (IMPLEMENTATION)\n",
    "Use everything you learned from the previous models to create a model that incorporates embedding and a bidirectional rnn into one model."
   ]
  },
  {
   "cell_type": "code",
   "execution_count": 15,
   "metadata": {},
   "outputs": [
    {
     "name": "stdout",
     "output_type": "stream",
     "text": [
      "Final Model Loaded\n",
      "_________________________________________________________________\n",
      "Layer (type)                 Output Shape              Param #   \n",
      "=================================================================\n",
      "input_layer (InputLayer)     (None, 21)                0         \n",
      "_________________________________________________________________\n",
      "embed_layer (Embedding)      (None, 21, 256)           50944     \n",
      "_________________________________________________________________\n",
      "bd_layer (Bidirectional)     (None, 21, 1024)          2362368   \n",
      "_________________________________________________________________\n",
      "td_layer (TimeDistributed)   (None, 21, 345)           353625    \n",
      "=================================================================\n",
      "Total params: 2,766,937\n",
      "Trainable params: 2,766,937\n",
      "Non-trainable params: 0\n",
      "_________________________________________________________________\n",
      "None\n",
      "Train on 110288 samples, validate on 27573 samples\n",
      "Epoch 1/20\n",
      "110288/110288 [==============================] - 50s 452us/step - loss: 1.8451 - acc: 0.6155 - val_loss: 0.8363 - val_acc: 0.7840\n",
      "Epoch 2/20\n",
      "110288/110288 [==============================] - 49s 444us/step - loss: 0.5462 - acc: 0.8466 - val_loss: 0.3790 - val_acc: 0.8885\n",
      "Epoch 3/20\n",
      "110288/110288 [==============================] - 49s 445us/step - loss: 0.2919 - acc: 0.9122 - val_loss: 0.2466 - val_acc: 0.9237\n",
      "Epoch 4/20\n",
      "110288/110288 [==============================] - 49s 445us/step - loss: 0.1941 - acc: 0.9403 - val_loss: 0.1721 - val_acc: 0.9478\n",
      "Epoch 5/20\n",
      "110288/110288 [==============================] - 49s 446us/step - loss: 0.1474 - acc: 0.9547 - val_loss: 0.1322 - val_acc: 0.9605\n",
      "Epoch 6/20\n",
      "110288/110288 [==============================] - 49s 445us/step - loss: 0.1166 - acc: 0.9642 - val_loss: 0.1158 - val_acc: 0.9645\n",
      "Epoch 7/20\n",
      "110288/110288 [==============================] - 49s 445us/step - loss: 0.0973 - acc: 0.9700 - val_loss: 0.0977 - val_acc: 0.9701\n",
      "Epoch 8/20\n",
      "110288/110288 [==============================] - 49s 445us/step - loss: 0.0846 - acc: 0.9738 - val_loss: 0.0913 - val_acc: 0.9722\n",
      "Epoch 9/20\n",
      "110288/110288 [==============================] - 49s 444us/step - loss: 0.0739 - acc: 0.9770 - val_loss: 0.0804 - val_acc: 0.9758\n",
      "Epoch 10/20\n",
      "110288/110288 [==============================] - 49s 447us/step - loss: 0.0655 - acc: 0.9797 - val_loss: 0.0776 - val_acc: 0.9765\n",
      "Epoch 11/20\n",
      "110288/110288 [==============================] - 49s 445us/step - loss: 0.0596 - acc: 0.9814 - val_loss: 0.0720 - val_acc: 0.9781\n",
      "Epoch 12/20\n",
      "110288/110288 [==============================] - 49s 445us/step - loss: 0.0551 - acc: 0.9826 - val_loss: 0.0720 - val_acc: 0.9780\n",
      "Epoch 13/20\n",
      "110288/110288 [==============================] - 49s 445us/step - loss: 0.0509 - acc: 0.9838 - val_loss: 0.0711 - val_acc: 0.9789\n",
      "Epoch 14/20\n",
      "110288/110288 [==============================] - 49s 445us/step - loss: 0.0467 - acc: 0.9852 - val_loss: 0.0665 - val_acc: 0.9803\n",
      "Epoch 15/20\n",
      "110288/110288 [==============================] - 49s 447us/step - loss: 0.0435 - acc: 0.9862 - val_loss: 0.0642 - val_acc: 0.9811\n",
      "Epoch 16/20\n",
      "110288/110288 [==============================] - 49s 445us/step - loss: 0.0415 - acc: 0.9869 - val_loss: 0.0631 - val_acc: 0.9814\n",
      "Epoch 17/20\n",
      "110288/110288 [==============================] - 49s 445us/step - loss: 0.0387 - acc: 0.9876 - val_loss: 0.0611 - val_acc: 0.9819\n",
      "Epoch 18/20\n",
      "110288/110288 [==============================] - 49s 445us/step - loss: 0.0350 - acc: 0.9887 - val_loss: 0.0625 - val_acc: 0.9814\n",
      "Epoch 19/20\n",
      "110288/110288 [==============================] - 49s 445us/step - loss: 0.0340 - acc: 0.9891 - val_loss: 0.0650 - val_acc: 0.9809\n",
      "Epoch 20/20\n",
      "110288/110288 [==============================] - 49s 447us/step - loss: 0.0325 - acc: 0.9896 - val_loss: 0.0599 - val_acc: 0.9829\n",
      "new jersey est parfois calme pendant l' automne et il est neigeux en avril <PAD> <PAD> <PAD> <PAD> <PAD> <PAD> <PAD>\n"
     ]
    }
   ],
   "source": [
    "from workspace_utils import active_session\n",
    "\n",
    "def model_final(input_shape, output_sequence_length, english_vocab_size, french_vocab_size):\n",
    "    \"\"\"\n",
    "    Build and train a model that incorporates embedding, encoder-decoder, and bidirectional RNN on x and y\n",
    "    :param input_shape: Tuple of input shape\n",
    "    :param output_sequence_length: Length of output sequence\n",
    "    :param english_vocab_size: Number of unique English words in the dataset\n",
    "    :param french_vocab_size: Number of unique French words in the dataset\n",
    "    :return: Keras model built, but not trained\n",
    "    \n",
    "    Code Attribution:\n",
    "        This function contains code that was updated and leveraged from the \n",
    "        Udacity Natural Language Processing Nano Degree Training material.\n",
    "    \"\"\"\n",
    "    # TODO: Implement\n",
    "    \n",
    "    # shape of the input (21, 1): english tokens x 1, doesn't include batch (# sentences)\n",
    "    input_sequence = Input(shape=input_shape[1:], name='input_layer')\n",
    "    \n",
    "    # create embedding layer\n",
    "    embed = Embedding(input_dim=english_vocab_size, \n",
    "                      output_dim=256, \n",
    "                      input_length=output_sequence_length, \n",
    "                      name='embed_layer')(input_sequence)\n",
    "    \n",
    "    # create bidirectional layer with GRU layer, return full sequence of outputs\n",
    "    bidirection = Bidirectional(GRU(512, return_sequences=True), name='bd_layer')(embed)\n",
    "    \n",
    "    # creates a timedistributed layer, apply dense layer to each GRU hidden state timesteps\n",
    "    output = TimeDistributed(Dense(french_vocab_size, activation='softmax'), name='td_layer')(bidirection)\n",
    "    \n",
    "#     learning_rate = .009\n",
    "    learning_rate = .001\n",
    "    \n",
    "    # builds models with input and output layers\n",
    "    model = Model(inputs=input_sequence, outputs=output)\n",
    "    \n",
    "    # compile model with loss function, optimizer, and evaluation metric\n",
    "    model.compile(loss=sparse_categorical_crossentropy,\n",
    "                  optimizer=Adam(learning_rate),\n",
    "                  metrics=['accuracy'])      \n",
    "    \n",
    "    return model    \n",
    "tests.test_model_final(model_final)\n",
    "\n",
    "\n",
    "print('Final Model Loaded')\n",
    "# TODO: Train the final model\n",
    "\n",
    "# TODO: Reshape the input\n",
    "# pad english sentences with max french sentence length\n",
    "# (don't need to reshape into 3D array, since the embedding layer \n",
    "# does that for us)\n",
    "tmp_x = pad(preproc_english_sentences, max_french_sequence_length)\n",
    "\n",
    "# TODO: Train the neural network\n",
    "final_model = model_final(\n",
    "    tmp_x.shape,\n",
    "    max_french_sequence_length,\n",
    "    english_vocab_size,\n",
    "    french_vocab_size+1)\n",
    "\n",
    "# print the network layers\n",
    "print(final_model.summary())\n",
    "\n",
    "with active_session():\n",
    "#     final_model.fit(tmp_x, preproc_french_sentences, batch_size=1024, epochs=10, validation_split=0.2)\n",
    "    final_model.fit(tmp_x, preproc_french_sentences, batch_size=512, epochs=20, validation_split=0.2)\n",
    "\n",
    "# TODO: Print prediction(s)\n",
    "print(logits_to_text(final_model.predict(tmp_x[:1])[0], french_tokenizer))"
   ]
  },
  {
   "cell_type": "markdown",
   "metadata": {},
   "source": [
    "## Prediction (IMPLEMENTATION)"
   ]
  },
  {
   "cell_type": "code",
   "execution_count": 16,
   "metadata": {},
   "outputs": [
    {
     "name": "stdout",
     "output_type": "stream",
     "text": [
      "Sample 1:\n",
      "il a vu un vieux camion jaune <PAD> <PAD> <PAD> <PAD> <PAD> <PAD> <PAD> <PAD> <PAD> <PAD> <PAD> <PAD> <PAD> <PAD>\n",
      "Il a vu un vieux camion jaune\n",
      "Sample 2:\n",
      "new jersey est parfois calme pendant l' automne et il est neigeux en avril <PAD> <PAD> <PAD> <PAD> <PAD> <PAD> <PAD>\n",
      "new jersey est parfois calme pendant l' automne et il est neigeux en avril <PAD> <PAD> <PAD> <PAD> <PAD> <PAD> <PAD>\n"
     ]
    }
   ],
   "source": [
    "def final_predictions(x, y, x_tk, y_tk):\n",
    "    \"\"\"\n",
    "    Gets predictions using the final model\n",
    "    :param x: Preprocessed English data\n",
    "    :param y: Preprocessed French data\n",
    "    :param x_tk: English tokenizer\n",
    "    :param y_tk: French tokenizer\n",
    "    \n",
    "    Code Attribution:\n",
    "        This function contains code that was updated and leveraged from the \n",
    "        Udacity Natural Language Processing Nano Degree Training material.\n",
    "    \"\"\"\n",
    "    # TODO: Train neural network using model_final\n",
    "    model = final_model\n",
    "    \n",
    "    # add padding to english sentences to max French sentence lenght\n",
    "    x = pad_sequences(x, 21, padding='post')\n",
    "    \n",
    "    ## DON'T EDIT ANYTHING BELOW THIS LINE\n",
    "    y_id_to_word = {value: key for key, value in y_tk.word_index.items()}\n",
    "    y_id_to_word[0] = '<PAD>'\n",
    "\n",
    "    sentence = 'he saw a old yellow truck'\n",
    "    sentence = [x_tk.word_index[word] for word in sentence.split()]\n",
    "    sentence = pad_sequences([sentence], maxlen=x.shape[-1], padding='post')\n",
    "    sentences = np.array([sentence[0], x[0]])\n",
    "    predictions = model.predict(sentences, len(sentences))\n",
    "\n",
    "    print('Sample 1:')\n",
    "    print(' '.join([y_id_to_word[np.argmax(x)] for x in predictions[0]]))\n",
    "    print('Il a vu un vieux camion jaune')\n",
    "    print('Sample 2:')\n",
    "    print(' '.join([y_id_to_word[np.argmax(x)] for x in predictions[1]]))\n",
    "    print(' '.join([y_id_to_word[np.max(x)] for x in y[0]]))\n",
    "\n",
    "\n",
    "final_predictions(preproc_english_sentences, preproc_french_sentences, english_tokenizer, french_tokenizer)"
   ]
  },
  {
   "cell_type": "markdown",
   "metadata": {},
   "source": [
    "## Submission\n",
    "When you're ready to submit, complete the following steps:\n",
    "1. Review the [rubric](https://review.udacity.com/#!/rubrics/1004/view) to ensure your submission meets all requirements to pass\n",
    "2. Generate an HTML version of this notebook\n",
    "\n",
    "  - Run the next cell to attempt automatic generation (this is the recommended method in Workspaces)\n",
    "  - Navigate to **FILE -> Download as -> HTML (.html)**\n",
    "  - Manually generate a copy using `nbconvert` from your shell terminal\n",
    "```\n",
    "$ pip install nbconvert\n",
    "$ python -m nbconvert machine_translation.ipynb\n",
    "```\n",
    "  \n",
    "3. Submit the project\n",
    "\n",
    "  - If you are in a Workspace, simply click the \"Submit Project\" button (bottom towards the right)\n",
    "  \n",
    "  - Otherwise, add the following files into a zip archive and submit them \n",
    "  - `helper.py`\n",
    "  - `machine_translation.ipynb`\n",
    "  - `machine_translation.html`\n",
    "    - You can export the notebook by navigating to **File -> Download as -> HTML (.html)**."
   ]
  },
  {
   "cell_type": "markdown",
   "metadata": {},
   "source": [
    "### Generate the html\n",
    "\n",
    "**Save your notebook before running the next cell to generate the HTML output.** Then submit your project."
   ]
  },
  {
   "cell_type": "code",
   "execution_count": 17,
   "metadata": {},
   "outputs": [
    {
     "data": {
      "text/plain": [
       "['[NbConvertApp] Converting notebook machine_translation.ipynb to html',\n",
       " '[NbConvertApp] Writing 406336 bytes to machine_translation.html',\n",
       " '[NbConvertApp] Converting notebook machine_translation-zh.ipynb to html',\n",
       " '[NbConvertApp] Writing 328614 bytes to machine_translation-zh.html']"
      ]
     },
     "execution_count": 17,
     "metadata": {},
     "output_type": "execute_result"
    }
   ],
   "source": [
    "# Save before you run this cell!\n",
    "!!jupyter nbconvert *.ipynb"
   ]
  },
  {
   "cell_type": "markdown",
   "metadata": {},
   "source": [
    "## Optional Enhancements\n",
    "\n",
    "This project focuses on learning various network architectures for machine translation, but we don't evaluate the models according to best practices by splitting the data into separate test & training sets -- so the model accuracy is overstated. Use the [`sklearn.model_selection.train_test_split()`](http://scikit-learn.org/stable/modules/generated/sklearn.model_selection.train_test_split.html) function to create separate training & test datasets, then retrain each of the models using only the training set and evaluate the prediction accuracy using the hold out test set. Does the \"best\" model change?"
   ]
  },
  {
   "cell_type": "markdown",
   "metadata": {},
   "source": [
    "Answer: After retraining on a 80/20 split dataset the final model that used a combination word embedding and bidirectional layer architecture remained as the best performing model."
   ]
  },
  {
   "cell_type": "markdown",
   "metadata": {},
   "source": [
    "### Partition the Data\n",
    "Partition the data into a 80% train and 20% test set."
   ]
  },
  {
   "cell_type": "code",
   "execution_count": 18,
   "metadata": {},
   "outputs": [],
   "source": [
    "from sklearn.model_selection import train_test_split\n",
    "\n",
    "preproc_english_sentences_train, preproc_english_sentences_test, preproc_french_sentences_train, preproc_french_sentences_test = train_test_split(preproc_english_sentences, \n",
    "                                                 preproc_french_sentences, \n",
    "                                                 test_size=.20, \n",
    "                                                 random_state=123)"
   ]
  },
  {
   "cell_type": "markdown",
   "metadata": {},
   "source": [
    "### Model 1: RNN - Training Set"
   ]
  },
  {
   "cell_type": "code",
   "execution_count": 19,
   "metadata": {},
   "outputs": [
    {
     "name": "stdout",
     "output_type": "stream",
     "text": [
      "Train on 88230 samples, validate on 22058 samples\n",
      "Epoch 1/10\n",
      "88230/88230 [==============================] - 9s 100us/step - loss: 1.7923 - acc: 0.5698 - val_loss: 1.2686 - val_acc: 0.6442\n",
      "Epoch 2/10\n",
      "88230/88230 [==============================] - 8s 91us/step - loss: 1.1620 - acc: 0.6545 - val_loss: 1.0819 - val_acc: 0.6643\n",
      "Epoch 3/10\n",
      "88230/88230 [==============================] - 8s 92us/step - loss: 1.0325 - acc: 0.6716 - val_loss: 1.0305 - val_acc: 0.6682\n",
      "Epoch 4/10\n",
      "88230/88230 [==============================] - 8s 92us/step - loss: 0.9589 - acc: 0.6845 - val_loss: 0.9307 - val_acc: 0.6860\n",
      "Epoch 5/10\n",
      "88230/88230 [==============================] - 8s 92us/step - loss: 0.9070 - acc: 0.6965 - val_loss: 0.9030 - val_acc: 0.6991\n",
      "Epoch 6/10\n",
      "88230/88230 [==============================] - 8s 92us/step - loss: 0.8592 - acc: 0.7095 - val_loss: 0.8266 - val_acc: 0.7187\n",
      "Epoch 7/10\n",
      "88230/88230 [==============================] - 8s 91us/step - loss: 0.8201 - acc: 0.7223 - val_loss: 0.8127 - val_acc: 0.7211\n",
      "Epoch 8/10\n",
      "88230/88230 [==============================] - 8s 92us/step - loss: 0.7893 - acc: 0.7308 - val_loss: 0.7674 - val_acc: 0.7375\n",
      "Epoch 9/10\n",
      "88230/88230 [==============================] - 8s 92us/step - loss: 0.7494 - acc: 0.7449 - val_loss: 0.7968 - val_acc: 0.7389\n",
      "Epoch 10/10\n",
      "88230/88230 [==============================] - 8s 92us/step - loss: 0.7194 - acc: 0.7581 - val_loss: 0.7415 - val_acc: 0.7520\n",
      "new jersey est parfois merveilleux en juillet mais il est chaud en l' automne <PAD> <PAD> <PAD> <PAD> <PAD> <PAD> <PAD>\n"
     ]
    }
   ],
   "source": [
    "# Reshaping the input to work with a basic RNN\n",
    "tmp_x = pad(preproc_english_sentences_train, max_french_sequence_length)\n",
    "tmp_x = tmp_x.reshape((-1, preproc_french_sentences_train.shape[-2], 1))\n",
    "\n",
    "# Train the neural network\n",
    "simple_rnn_model = simple_model(\n",
    "    tmp_x.shape,\n",
    "    max_french_sequence_length,\n",
    "    english_vocab_size,\n",
    "    french_vocab_size+1)\n",
    "simple_rnn_model.fit(tmp_x, preproc_french_sentences_train, batch_size=1024, epochs=10, validation_split=0.2)\n",
    "\n",
    "# Print prediction(s)\n",
    "print(logits_to_text(simple_rnn_model.predict(tmp_x[:1])[0], french_tokenizer))"
   ]
  },
  {
   "cell_type": "markdown",
   "metadata": {},
   "source": [
    "### Model 2: Embedding - Training Set"
   ]
  },
  {
   "cell_type": "code",
   "execution_count": 20,
   "metadata": {},
   "outputs": [
    {
     "name": "stdout",
     "output_type": "stream",
     "text": [
      "_________________________________________________________________\n",
      "Layer (type)                 Output Shape              Param #   \n",
      "=================================================================\n",
      "input_layer (InputLayer)     (None, 21)                0         \n",
      "_________________________________________________________________\n",
      "embed_layer (Embedding)      (None, 21, 256)           50944     \n",
      "_________________________________________________________________\n",
      "gru_layer (GRU)              (None, 21, 256)           393984    \n",
      "_________________________________________________________________\n",
      "td_layer (TimeDistributed)   (None, 21, 345)           88665     \n",
      "=================================================================\n",
      "Total params: 533,593\n",
      "Trainable params: 533,593\n",
      "Non-trainable params: 0\n",
      "_________________________________________________________________\n",
      "None\n",
      "Train on 88230 samples, validate on 22058 samples\n",
      "Epoch 1/10\n",
      "88230/88230 [==============================] - 11s 126us/step - loss: 1.6371 - acc: 0.6574 - val_loss: 0.5802 - val_acc: 0.8187\n",
      "Epoch 2/10\n",
      "88230/88230 [==============================] - 10s 119us/step - loss: 0.3929 - acc: 0.8751 - val_loss: 0.3223 - val_acc: 0.8958\n",
      "Epoch 3/10\n",
      "88230/88230 [==============================] - 10s 119us/step - loss: 0.2716 - acc: 0.9110 - val_loss: 0.2835 - val_acc: 0.9085\n",
      "Epoch 4/10\n",
      "88230/88230 [==============================] - 10s 119us/step - loss: 0.2323 - acc: 0.9216 - val_loss: 0.2377 - val_acc: 0.9190\n",
      "Epoch 5/10\n",
      "88230/88230 [==============================] - 10s 119us/step - loss: 0.2142 - acc: 0.9267 - val_loss: 0.2178 - val_acc: 0.9253\n",
      "Epoch 6/10\n",
      "88230/88230 [==============================] - 10s 119us/step - loss: 0.1979 - acc: 0.9312 - val_loss: 0.2089 - val_acc: 0.9277\n",
      "Epoch 7/10\n",
      "88230/88230 [==============================] - 10s 119us/step - loss: 0.1909 - acc: 0.9329 - val_loss: 0.2104 - val_acc: 0.9279\n",
      "Epoch 8/10\n",
      "88230/88230 [==============================] - 10s 119us/step - loss: 0.1903 - acc: 0.9331 - val_loss: 0.2032 - val_acc: 0.9286\n",
      "Epoch 9/10\n",
      "88230/88230 [==============================] - 10s 119us/step - loss: 0.1817 - acc: 0.9356 - val_loss: 0.2030 - val_acc: 0.9292\n",
      "Epoch 10/10\n",
      "88230/88230 [==============================] - 10s 118us/step - loss: 0.1820 - acc: 0.9353 - val_loss: 0.2050 - val_acc: 0.9298\n",
      "new jersey est parfois froid en juillet mais il est chaud en l' automne <PAD> <PAD> <PAD> <PAD> <PAD> <PAD> <PAD>\n"
     ]
    }
   ],
   "source": [
    "# TODO: Reshape the input\n",
    "# pad english sentences with max french sentence length\n",
    "# (don't need to reshape into 3D array, since the embedding layer \n",
    "# does that for us)\n",
    "tmp_x = pad(preproc_english_sentences_train, max_french_sequence_length)\n",
    "\n",
    "# TODO: Train the neural network\n",
    "embed_rnn_model = embed_model(\n",
    "    tmp_x.shape,\n",
    "    max_french_sequence_length,\n",
    "    english_vocab_size,\n",
    "    french_vocab_size+1)\n",
    "\n",
    "# print the network layers\n",
    "print(embed_rnn_model.summary())\n",
    "\n",
    "embed_rnn_model.fit(tmp_x, preproc_french_sentences_train, batch_size=1024, epochs=10, validation_split=0.2)\n",
    "\n",
    "# TODO: Print prediction(s)\n",
    "print(logits_to_text(embed_rnn_model.predict(tmp_x[:1])[0], french_tokenizer))"
   ]
  },
  {
   "cell_type": "markdown",
   "metadata": {},
   "source": [
    "### Model 3: Bidirectional RNNs - Training Set"
   ]
  },
  {
   "cell_type": "code",
   "execution_count": 21,
   "metadata": {},
   "outputs": [
    {
     "name": "stdout",
     "output_type": "stream",
     "text": [
      "_________________________________________________________________\n",
      "Layer (type)                 Output Shape              Param #   \n",
      "=================================================================\n",
      "input_layer (InputLayer)     (None, 21, 1)             0         \n",
      "_________________________________________________________________\n",
      "bd_layer (Bidirectional)     (None, 21, 512)           396288    \n",
      "_________________________________________________________________\n",
      "td_layer (TimeDistributed)   (None, 21, 345)           176985    \n",
      "=================================================================\n",
      "Total params: 573,273\n",
      "Trainable params: 573,273\n",
      "Non-trainable params: 0\n",
      "_________________________________________________________________\n",
      "None\n",
      "Train on 88230 samples, validate on 22058 samples\n",
      "Epoch 1/10\n",
      "88230/88230 [==============================] - 15s 168us/step - loss: 1.6090 - acc: 0.5986 - val_loss: 1.1691 - val_acc: 0.6577\n",
      "Epoch 2/10\n",
      "88230/88230 [==============================] - 14s 157us/step - loss: 1.0710 - acc: 0.6743 - val_loss: 0.9896 - val_acc: 0.6869\n",
      "Epoch 3/10\n",
      "88230/88230 [==============================] - 14s 158us/step - loss: 0.9342 - acc: 0.6970 - val_loss: 0.8995 - val_acc: 0.7007\n",
      "Epoch 4/10\n",
      "88230/88230 [==============================] - 14s 158us/step - loss: 0.8902 - acc: 0.7013 - val_loss: 0.9035 - val_acc: 0.6957\n",
      "Epoch 5/10\n",
      "88230/88230 [==============================] - 14s 158us/step - loss: 0.8329 - acc: 0.7126 - val_loss: 0.8126 - val_acc: 0.7169\n",
      "Epoch 6/10\n",
      "88230/88230 [==============================] - 14s 158us/step - loss: 0.7795 - acc: 0.7248 - val_loss: 0.7912 - val_acc: 0.7215\n",
      "Epoch 7/10\n",
      "88230/88230 [==============================] - 14s 157us/step - loss: 0.7317 - acc: 0.7400 - val_loss: 0.7448 - val_acc: 0.7289\n",
      "Epoch 8/10\n",
      "88230/88230 [==============================] - 14s 158us/step - loss: 0.7161 - acc: 0.7438 - val_loss: 0.7105 - val_acc: 0.7443\n",
      "Epoch 9/10\n",
      "88230/88230 [==============================] - 14s 157us/step - loss: 0.6956 - acc: 0.7466 - val_loss: 0.7411 - val_acc: 0.7255\n",
      "Epoch 10/10\n",
      "88230/88230 [==============================] - 14s 158us/step - loss: 0.6591 - acc: 0.7622 - val_loss: 0.6555 - val_acc: 0.7629\n",
      "new jersey est parfois froid en juillet mais il est chaud en l' <PAD> <PAD> <PAD> <PAD> <PAD> <PAD> <PAD> <PAD>\n"
     ]
    }
   ],
   "source": [
    "# pad english sentences with max french sentence length\n",
    "tmp_x = pad(preproc_english_sentences_train, max_french_sequence_length)\n",
    "# reshape english sentences into a 3D array required for the GRU layer\n",
    "tmp_x = tmp_x.reshape((-1, preproc_french_sentences_train.shape[-2], 1))\n",
    "\n",
    "# TODO: Train the neural network\n",
    "bd_rnn_model = bd_model(\n",
    "    tmp_x.shape,\n",
    "    max_french_sequence_length,\n",
    "    english_vocab_size,\n",
    "    french_vocab_size+1)\n",
    "\n",
    "# print the network layers\n",
    "print(bd_rnn_model.summary())\n",
    "plot_model(bd_rnn_model, to_file='bd_rnn_plot.png', show_shapes=True, show_layer_names=True)\n",
    "\n",
    "bd_rnn_model.fit(tmp_x, preproc_french_sentences_train, batch_size=1024, epochs=10, validation_split=0.2)\n",
    "\n",
    "# TODO: Print prediction(s)\n",
    "print(logits_to_text(bd_rnn_model.predict(tmp_x[:1])[0], french_tokenizer))"
   ]
  },
  {
   "cell_type": "markdown",
   "metadata": {},
   "source": [
    "### Model 4: Encoder Decoder - Training Set"
   ]
  },
  {
   "cell_type": "code",
   "execution_count": 22,
   "metadata": {},
   "outputs": [
    {
     "name": "stdout",
     "output_type": "stream",
     "text": [
      "__________________________________________________________________________________________________\n",
      "Layer (type)                    Output Shape         Param #     Connected to                     \n",
      "==================================================================================================\n",
      "encoder_inputs (InputLayer)     (None, 15, 1)        0                                            \n",
      "__________________________________________________________________________________________________\n",
      "decoder_inputs (InputLayer)     (None, 21, 1)        0                                            \n",
      "__________________________________________________________________________________________________\n",
      "encoder_gru (GRU)               [(None, 256), (None, 198144      encoder_inputs[0][0]             \n",
      "__________________________________________________________________________________________________\n",
      "decoder_gru (GRU)               [(None, 21, 256), (N 198144      decoder_inputs[0][0]             \n",
      "                                                                 encoder_gru[0][1]                \n",
      "__________________________________________________________________________________________________\n",
      "dense_13 (Dense)                (None, 21, 345)      88665       decoder_gru[0][0]                \n",
      "==================================================================================================\n",
      "Total params: 484,953\n",
      "Trainable params: 484,953\n",
      "Non-trainable params: 0\n",
      "__________________________________________________________________________________________________\n",
      "None\n",
      "Train on 88230 samples, validate on 22058 samples\n",
      "Epoch 1/10\n",
      "88230/88230 [==============================] - 13s 149us/step - loss: 1.1910 - acc: 0.6888 - val_loss: 0.6595 - val_acc: 0.7713\n",
      "Epoch 2/10\n",
      "88230/88230 [==============================] - 12s 138us/step - loss: 0.6020 - acc: 0.7898 - val_loss: 0.5473 - val_acc: 0.8019\n",
      "Epoch 3/10\n",
      "88230/88230 [==============================] - 12s 138us/step - loss: 0.4961 - acc: 0.8191 - val_loss: 0.4504 - val_acc: 0.8297\n",
      "Epoch 4/10\n",
      "88230/88230 [==============================] - 12s 138us/step - loss: 0.4322 - acc: 0.8371 - val_loss: 0.4121 - val_acc: 0.8371\n",
      "Epoch 5/10\n",
      "88230/88230 [==============================] - 12s 138us/step - loss: 0.3697 - acc: 0.8543 - val_loss: 0.3659 - val_acc: 0.8531\n",
      "Epoch 6/10\n",
      "88230/88230 [==============================] - 12s 138us/step - loss: 0.3245 - acc: 0.8730 - val_loss: 0.3473 - val_acc: 0.8642\n",
      "Epoch 7/10\n",
      "88230/88230 [==============================] - 12s 138us/step - loss: 0.3117 - acc: 0.8792 - val_loss: 0.2843 - val_acc: 0.8863\n",
      "Epoch 8/10\n",
      "88230/88230 [==============================] - 12s 138us/step - loss: 0.2605 - acc: 0.8957 - val_loss: 0.2461 - val_acc: 0.9002\n",
      "Epoch 9/10\n",
      "88230/88230 [==============================] - 12s 138us/step - loss: 0.2396 - acc: 0.9038 - val_loss: 0.2253 - val_acc: 0.9086\n",
      "Epoch 10/10\n",
      "88230/88230 [==============================] - 12s 138us/step - loss: 0.2199 - acc: 0.9106 - val_loss: 0.2272 - val_acc: 0.9091\n",
      "jersey est parfois froid en avril mais il est chaud en l' automne <PAD> <PAD> <PAD> <PAD> <PAD> <PAD> <PAD> <PAD>\n"
     ]
    }
   ],
   "source": [
    "# Reshaping the input to work with a basic RNN\n",
    "# pad english sentences with max english sentence length\n",
    "tmp_x = pad(preproc_english_sentences_train, max_english_sequence_length)\n",
    "# reshape english sentences into a 3D array required for the GRU layer\n",
    "tmp_x = tmp_x.reshape((preproc_english_sentences_train.shape[0], preproc_english_sentences_train.shape[1], 1))\n",
    "\n",
    "# shift decoder input by one timestep\n",
    "decoder_target_data = np.zeros(preproc_french_sentences_train.shape) \n",
    "decoder_target_data[:,:-1,:] = preproc_french_sentences_train[:,1:,:]\n",
    "\n",
    "# create a tuple of the encoder and decoder input shapes\n",
    "encode_decode_shape = (tmp_x.shape, decoder_target_data.shape)\n",
    "\n",
    "# TODO: Train the neural network\n",
    "encdec_rnn_model = encdec_model(\n",
    "    encode_decode_shape,\n",
    "    max_french_sequence_length,\n",
    "    english_vocab_size,\n",
    "    french_vocab_size+1)\n",
    "\n",
    "# print the network layers\n",
    "print(encdec_rnn_model.summary())\n",
    "\n",
    "encdec_rnn_model.fit([tmp_x, preproc_french_sentences_train], decoder_target_data, batch_size=1024, epochs=10, validation_split=0.2)\n",
    "\n",
    "# TODO: Print prediction(s)\n",
    "print(logits_to_text(encdec_rnn_model.predict([tmp_x[:1], preproc_french_sentences_train[:1]])[0], french_tokenizer))"
   ]
  },
  {
   "cell_type": "markdown",
   "metadata": {},
   "source": [
    "### Model 5: Custom - Training Set"
   ]
  },
  {
   "cell_type": "code",
   "execution_count": 23,
   "metadata": {},
   "outputs": [
    {
     "name": "stdout",
     "output_type": "stream",
     "text": [
      "_________________________________________________________________\n",
      "Layer (type)                 Output Shape              Param #   \n",
      "=================================================================\n",
      "input_layer (InputLayer)     (None, 21)                0         \n",
      "_________________________________________________________________\n",
      "embed_layer (Embedding)      (None, 21, 256)           50944     \n",
      "_________________________________________________________________\n",
      "bd_layer (Bidirectional)     (None, 21, 1024)          2362368   \n",
      "_________________________________________________________________\n",
      "td_layer (TimeDistributed)   (None, 21, 345)           353625    \n",
      "=================================================================\n",
      "Total params: 2,766,937\n",
      "Trainable params: 2,766,937\n",
      "Non-trainable params: 0\n",
      "_________________________________________________________________\n",
      "None\n",
      "Train on 88230 samples, validate on 22058 samples\n",
      "Epoch 1/10\n",
      "88230/88230 [==============================] - 34s 380us/step - loss: 2.7698 - acc: 0.4826 - val_loss: 1.7626 - val_acc: 0.5859\n",
      "Epoch 2/10\n",
      "88230/88230 [==============================] - 32s 368us/step - loss: 1.3033 - acc: 0.6853 - val_loss: 0.9737 - val_acc: 0.7605\n",
      "Epoch 3/10\n",
      "88230/88230 [==============================] - 33s 369us/step - loss: 0.7782 - acc: 0.7959 - val_loss: 0.6297 - val_acc: 0.8241\n",
      "Epoch 4/10\n",
      "88230/88230 [==============================] - 33s 368us/step - loss: 0.5220 - acc: 0.8516 - val_loss: 0.4486 - val_acc: 0.8682\n",
      "Epoch 5/10\n",
      "88230/88230 [==============================] - 33s 369us/step - loss: 0.3801 - acc: 0.8880 - val_loss: 0.3371 - val_acc: 0.9000\n",
      "Epoch 6/10\n",
      "88230/88230 [==============================] - 32s 368us/step - loss: 0.2921 - acc: 0.9129 - val_loss: 0.2703 - val_acc: 0.9203\n",
      "Epoch 7/10\n",
      "88230/88230 [==============================] - 33s 369us/step - loss: 0.2359 - acc: 0.9293 - val_loss: 0.2203 - val_acc: 0.9336\n",
      "Epoch 8/10\n",
      "88230/88230 [==============================] - 33s 368us/step - loss: 0.1970 - acc: 0.9410 - val_loss: 0.1921 - val_acc: 0.9409\n",
      "Epoch 9/10\n",
      "88230/88230 [==============================] - 33s 369us/step - loss: 0.1701 - acc: 0.9488 - val_loss: 0.1801 - val_acc: 0.9437\n",
      "Epoch 10/10\n",
      "88230/88230 [==============================] - 33s 369us/step - loss: 0.1487 - acc: 0.9553 - val_loss: 0.1562 - val_acc: 0.9522\n",
      "new jersey est parfois froid en juillet mais il est chaud à l' automne <PAD> <PAD> <PAD> <PAD> <PAD> <PAD> <PAD>\n"
     ]
    }
   ],
   "source": [
    "# TODO: Reshape the input\n",
    "# pad english sentences with max french sentence length\n",
    "# (don't need to reshape into 3D array, since the embedding layer \n",
    "# does that for us)\n",
    "tmp_x = pad(preproc_english_sentences_train, max_french_sequence_length)\n",
    "\n",
    "# TODO: Train the neural network\n",
    "final_model = model_final(\n",
    "    tmp_x.shape,\n",
    "    max_french_sequence_length,\n",
    "    english_vocab_size,\n",
    "    french_vocab_size+1)\n",
    "\n",
    "# print the network layers\n",
    "print(final_model.summary())\n",
    "\n",
    "final_model.fit(tmp_x, preproc_french_sentences_train, batch_size=1024, epochs=10, validation_split=0.2)\n",
    "\n",
    "# TODO: Print prediction(s)\n",
    "print(logits_to_text(final_model.predict(tmp_x[:1])[0], french_tokenizer))"
   ]
  },
  {
   "cell_type": "markdown",
   "metadata": {},
   "source": [
    "### Final Implementation\n"
   ]
  },
  {
   "cell_type": "code",
   "execution_count": 24,
   "metadata": {},
   "outputs": [
    {
     "name": "stdout",
     "output_type": "stream",
     "text": [
      "Sample 1:\n",
      "il a vu un vieux camion jaune <PAD> <PAD> <PAD> <PAD> <PAD> <PAD> <PAD> <PAD> <PAD> <PAD> <PAD> <PAD> <PAD> <PAD>\n",
      "Il a vu un vieux camion jaune\n",
      "Sample 2:\n",
      "il aime les poires les raisins et les pêches <PAD> <PAD> <PAD> <PAD> <PAD> <PAD> <PAD> <PAD> <PAD> <PAD> <PAD> <PAD>\n",
      "il aime les poires les raisins et les pêches <PAD> <PAD> <PAD> <PAD> <PAD> <PAD> <PAD> <PAD> <PAD> <PAD> <PAD> <PAD>\n"
     ]
    }
   ],
   "source": [
    "final_predictions(preproc_english_sentences_test, preproc_french_sentences_test, english_tokenizer, french_tokenizer)"
   ]
  }
 ],
 "metadata": {
  "kernelspec": {
   "display_name": "Python 3",
   "language": "python",
   "name": "python3"
  },
  "language_info": {
   "codemirror_mode": {
    "name": "ipython",
    "version": 3
   },
   "file_extension": ".py",
   "mimetype": "text/x-python",
   "name": "python",
   "nbconvert_exporter": "python",
   "pygments_lexer": "ipython3",
   "version": "3.6.3"
  }
 },
 "nbformat": 4,
 "nbformat_minor": 1
}
